{
 "cells": [
  {
   "cell_type": "markdown",
   "id": "99e11592-033b-4449-8919-f2a3a1599783",
   "metadata": {},
   "source": [
    "[M1 MacでPytorchを使ってみる記事](https://towardsdatascience.com/gpu-acceleration-comes-to-pytorch-on-m1-macs-195c399efcc1)の写経"
   ]
  },
  {
   "cell_type": "code",
   "execution_count": 2,
   "id": "6628a0bc-e3f2-4d62-9a4b-a3adc79a1e8a",
   "metadata": {},
   "outputs": [
    {
     "name": "stderr",
     "output_type": "stream",
     "text": [
      "/Users/hotoku/.pyenv/versions/3.9.13/envs/pytorch-test/lib/python3.9/site-packages/tqdm/auto.py:22: TqdmWarning: IProgress not found. Please update jupyter and ipywidgets. See https://ipywidgets.readthedocs.io/en/stable/user_install.html\n",
      "  from .autonotebook import tqdm as notebook_tqdm\n"
     ]
    }
   ],
   "source": [
    "from datasets import load_dataset"
   ]
  },
  {
   "cell_type": "code",
   "execution_count": 3,
   "id": "604ca02f-cff3-4077-bf7a-1bd9fd7e92db",
   "metadata": {},
   "outputs": [
    {
     "name": "stderr",
     "output_type": "stream",
     "text": [
      "Downloading builder script: 5.50kB [00:00, 1.64MB/s]                   \n",
      "Downloading metadata: 2.99kB [00:00, 782kB/s]                    \n",
      "Using custom data configuration default\n"
     ]
    },
    {
     "name": "stdout",
     "output_type": "stream",
     "text": [
      "Downloading and preparing dataset trec/default (download: 350.79 KiB, generated: 403.39 KiB, post-processed: Unknown size, total: 754.18 KiB) to /Users/hotoku/.cache/huggingface/datasets/trec/default/1.1.0/751da1ab101b8d297a3d6e9c79ee9b0173ff94c4497b75677b59b61d5467a9b9...\n"
     ]
    },
    {
     "name": "stderr",
     "output_type": "stream",
     "text": [
      "Downloading data files:   0%|          | 0/2 [00:00<?, ?it/s]\n",
      "Downloading data:   0%|          | 0.00/336k [00:00<?, ?B/s]\u001b[A\n",
      "Downloading data:   2%|▏         | 8.19k/336k [00:00<00:07, 44.1kB/s]\u001b[A\n",
      "Downloading data:  14%|█▍        | 48.1k/336k [00:00<00:02, 140kB/s] \u001b[A\n",
      "Downloading data:  34%|███▎      | 113k/336k [00:00<00:00, 228kB/s] \u001b[A\n",
      "Downloading data: 100%|██████████| 336k/336k [00:00<00:00, 423kB/s]\u001b[A\n",
      "Downloading data files:  50%|█████     | 1/2 [00:03<00:03,  3.08s/it]\n",
      "Downloading data:   0%|          | 0.00/23.4k [00:00<?, ?B/s]\u001b[A\n",
      "Downloading data: 100%|██████████| 23.4k/23.4k [00:00<00:00, 129kB/s] \u001b[A\n",
      "Downloading data files: 100%|██████████| 2/2 [00:04<00:00,  2.24s/it]\n",
      "Extracting data files: 100%|██████████| 2/2 [00:00<00:00, 817.05it/s]\n",
      "                                                                       "
     ]
    },
    {
     "name": "stdout",
     "output_type": "stream",
     "text": [
      "Dataset trec downloaded and prepared to /Users/hotoku/.cache/huggingface/datasets/trec/default/1.1.0/751da1ab101b8d297a3d6e9c79ee9b0173ff94c4497b75677b59b61d5467a9b9. Subsequent calls will reuse this data.\n"
     ]
    },
    {
     "name": "stderr",
     "output_type": "stream",
     "text": [
      "\r"
     ]
    },
    {
     "data": {
      "text/plain": [
       "Dataset({\n",
       "    features: ['label-coarse', 'label-fine', 'text'],\n",
       "    num_rows: 1000\n",
       "})"
      ]
     },
     "execution_count": 3,
     "metadata": {},
     "output_type": "execute_result"
    }
   ],
   "source": [
    "trec = load_dataset(\"trec\", split=\"train[:1000]\")\n",
    "trec"
   ]
  },
  {
   "cell_type": "code",
   "execution_count": 4,
   "id": "a4e80a5f-c457-4fbe-a319-497bd178b96d",
   "metadata": {},
   "outputs": [
    {
     "data": {
      "text/plain": [
       "{'label-coarse': 0,\n",
       " 'label-fine': 0,\n",
       " 'text': 'How did serfdom develop in and then leave Russia ?'}"
      ]
     },
     "execution_count": 4,
     "metadata": {},
     "output_type": "execute_result"
    }
   ],
   "source": [
    "trec[0]"
   ]
  },
  {
   "cell_type": "code",
   "execution_count": 7,
   "id": "c47e78ee-690b-4ffc-84fb-16d0a18f2503",
   "metadata": {},
   "outputs": [],
   "source": [
    "from transformers import AutoTokenizer, AutoModel"
   ]
  },
  {
   "cell_type": "code",
   "execution_count": 8,
   "id": "30e2fef0-cf09-40a4-92db-436cd59ddfcc",
   "metadata": {},
   "outputs": [
    {
     "name": "stderr",
     "output_type": "stream",
     "text": [
      "Downloading tokenizer_config.json: 100%|██████████| 28.0/28.0 [00:00<00:00, 6.37kB/s]\n",
      "Downloading config.json: 100%|██████████| 570/570 [00:00<00:00, 134kB/s]\n",
      "Downloading vocab.txt: 100%|██████████| 226k/226k [00:00<00:00, 320kB/s]  \n",
      "Downloading tokenizer.json: 100%|██████████| 455k/455k [00:00<00:00, 506kB/s]  \n",
      "Downloading pytorch_model.bin: 100%|██████████| 420M/420M [00:38<00:00, 11.5MB/s] \n",
      "Some weights of the model checkpoint at bert-base-uncased were not used when initializing BertModel: ['cls.seq_relationship.weight', 'cls.predictions.bias', 'cls.predictions.transform.LayerNorm.weight', 'cls.predictions.transform.dense.weight', 'cls.predictions.transform.LayerNorm.bias', 'cls.predictions.transform.dense.bias', 'cls.predictions.decoder.weight', 'cls.seq_relationship.bias']\n",
      "- This IS expected if you are initializing BertModel from the checkpoint of a model trained on another task or with another architecture (e.g. initializing a BertForSequenceClassification model from a BertForPreTraining model).\n",
      "- This IS NOT expected if you are initializing BertModel from the checkpoint of a model that you expect to be exactly identical (initializing a BertForSequenceClassification model from a BertForSequenceClassification model).\n"
     ]
    }
   ],
   "source": [
    "tokenizer = AutoTokenizer.from_pretrained('bert-base-uncased')\n",
    "model = AutoModel.from_pretrained('bert-base-uncased')"
   ]
  },
  {
   "cell_type": "code",
   "execution_count": 9,
   "id": "fd6d82a6-1748-4892-9e80-e8a18376d1e2",
   "metadata": {},
   "outputs": [],
   "source": [
    "text = trec['text'][:64]\n",
    "# tokenize text using the BERT tokenizer\n",
    "tokens = tokenizer(\n",
    "    text, max_length=512,\n",
    "    truncation=True, padding=True,\n",
    "    return_tensors='pt'\n",
    ")"
   ]
  },
  {
   "cell_type": "code",
   "execution_count": 24,
   "id": "f28cf08e-940f-4d5e-8901-20269c623e98",
   "metadata": {},
   "outputs": [
    {
     "data": {
      "text/plain": [
       "True"
      ]
     },
     "execution_count": 24,
     "metadata": {},
     "output_type": "execute_result"
    }
   ],
   "source": [
    "import torch\n",
    "torch.has_mps"
   ]
  },
  {
   "cell_type": "code",
   "execution_count": 25,
   "id": "5e536703-5949-4f2b-9d5f-0eb6e360ddde",
   "metadata": {},
   "outputs": [
    {
     "data": {
      "text/plain": [
       "device(type='mps')"
      ]
     },
     "execution_count": 25,
     "metadata": {},
     "output_type": "execute_result"
    }
   ],
   "source": [
    "device = torch.device('mps')\n",
    "model.to(device)\n",
    "tokens.to(device)\n",
    "device"
   ]
  },
  {
   "cell_type": "code",
   "execution_count": 26,
   "id": "9dfb5d97-1272-46cf-92a7-0ebb09a94dae",
   "metadata": {},
   "outputs": [
    {
     "name": "stdout",
     "output_type": "stream",
     "text": [
      "341 ms ± 1.52 ms per loop (mean ± std. dev. of 7 runs, 10 loops each)\n"
     ]
    }
   ],
   "source": [
    "%%timeit\n",
    "model(**tokens)"
   ]
  }
 ],
 "metadata": {
  "kernelspec": {
   "display_name": "Python 3 (ipykernel)",
   "language": "python",
   "name": "python3"
  },
  "language_info": {
   "codemirror_mode": {
    "name": "ipython",
    "version": 3
   },
   "file_extension": ".py",
   "mimetype": "text/x-python",
   "name": "python",
   "nbconvert_exporter": "python",
   "pygments_lexer": "ipython3",
   "version": "3.9.13"
  }
 },
 "nbformat": 4,
 "nbformat_minor": 5
}
